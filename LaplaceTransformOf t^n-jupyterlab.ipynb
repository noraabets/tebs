{
 "cells": [
  {
   "cell_type": "code",
   "execution_count": 1,
   "id": "6c97e061-c502-4c4e-a8ba-9a7d61aebe0b",
   "metadata": {},
   "outputs": [
    {
     "data": {
      "image/png": "[encoded data removed]",
      "text/latex": [
       "$\\displaystyle s^{- n - 1} \\Gamma\\left(n + 1\\right)$"
      ],
      "text/plain": [
       " -n - 1         \n",
       "s      ⋅Γ(n + 1)"
      ]
     },
     "execution_count": 1,
     "metadata": {},
     "output_type": "execute_result"
    }
   ],
   "source": [
    "from sympy import symbols, laplace_transform, simplify, init_printing\n",
    "from sympy.abc import t, s, n\n",
    "\n",
    "# Enable pretty printing\n",
    "init_printing()\n",
    "\n",
    "# Define the function f(t) = t**n\n",
    "f = t**n\n",
    "\n",
    "# Laplace transform of f(t)\n",
    "F = laplace_transform(f, t, s, noconds=True)\n",
    "\n",
    "# Simplify and display result\n",
    "simplify(F)\n"
   ]
  },
  {
   "cell_type": "code",
   "execution_count": null,
   "id": "f9c991b2-9a3d-4637-9730-3a3c95776ef7",
   "metadata": {},
   "outputs": [],
   "source": []
  }
 ],
 "metadata": {
  "kernelspec": {
   "display_name": "Python 3 (ipykernel)",
   "language": "python",
   "name": "python3"
  },
  "language_info": {
   "codemirror_mode": {
    "name": "ipython",
    "version": 3
   },
   "file_extension": ".py",
   "mimetype": "text/x-python",
   "name": "python",
   "nbconvert_exporter": "python",
   "pygments_lexer": "ipython3",
   "version": "3.11.8"
  }
 },
 "nbformat": 4,
 "nbformat_minor": 5
}
